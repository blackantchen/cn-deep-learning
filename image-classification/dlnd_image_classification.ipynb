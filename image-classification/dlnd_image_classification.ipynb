{
 "cells": [
  {
   "cell_type": "markdown",
   "metadata": {
    "collapsed": true
   },
   "source": [
    "# 图像分类\n",
    "\n",
    "在此项目中，你将对 [CIFAR-10 数据集](https://www.cs.toronto.edu/~kriz/cifar.html) 中的图片进行分类。该数据集包含飞机、猫狗和其他物体。你需要预处理这些图片，然后用所有样本训练一个卷积神经网络。图片需要标准化（normalized），标签需要采用 one-hot 编码。你需要应用所学的知识构建卷积的、最大池化（max pooling）、丢弃（dropout）和完全连接（fully connected）的层。最后，你需要在样本图片上看到神经网络的预测结果。\n",
    "\n",
    "\n",
    "## 获取数据\n",
    "\n",
    "请运行以下单元，以下载 [CIFAR-10 数据集（Python版）](https://www.cs.toronto.edu/~kriz/cifar-10-python.tar.gz)。\n"
   ]
  },
  {
   "cell_type": "code",
   "execution_count": 1,
   "metadata": {},
   "outputs": [
    {
     "name": "stdout",
     "output_type": "stream",
     "text": [
      "All files found!\n"
     ]
    }
   ],
   "source": [
    "\"\"\"\n",
    "DON'T MODIFY ANYTHING IN THIS CELL THAT IS BELOW THIS LINE\n",
    "\"\"\"\n",
    "from urllib.request import urlretrieve\n",
    "from os.path import isfile, isdir\n",
    "from tqdm import tqdm\n",
    "import problem_unittests as tests\n",
    "import tarfile\n",
    "\n",
    "cifar10_dataset_folder_path = 'cifar-10-batches-py'\n",
    "\n",
    "# Use Floyd's cifar-10 dataset if present\n",
    "floyd_cifar10_location = '/input/cifar-10/python.tar.gz'\n",
    "if isfile(floyd_cifar10_location):\n",
    "    tar_gz_path = floyd_cifar10_location\n",
    "else:\n",
    "    tar_gz_path = 'cifar-10-python.tar.gz'\n",
    "\n",
    "class DLProgress(tqdm):\n",
    "    last_block = 0\n",
    "\n",
    "    def hook(self, block_num=1, block_size=1, total_size=None):\n",
    "        self.total = total_size\n",
    "        self.update((block_num - self.last_block) * block_size)\n",
    "        self.last_block = block_num\n",
    "\n",
    "if not isfile(tar_gz_path):\n",
    "    with DLProgress(unit='B', unit_scale=True, miniters=1, desc='CIFAR-10 Dataset') as pbar:\n",
    "        urlretrieve(\n",
    "            'https://www.cs.toronto.edu/~kriz/cifar-10-python.tar.gz',\n",
    "            tar_gz_path,\n",
    "            pbar.hook)\n",
    "\n",
    "if not isdir(cifar10_dataset_folder_path):\n",
    "    with tarfile.open(tar_gz_path) as tar:\n",
    "        tar.extractall()\n",
    "        tar.close()\n",
    "\n",
    "\n",
    "tests.test_folder_path(cifar10_dataset_folder_path)"
   ]
  },
  {
   "cell_type": "markdown",
   "metadata": {},
   "source": [
    "## 探索数据\n",
    "\n",
    "该数据集分成了几部分／批次（batches），以免你的机器在计算时内存不足。CIFAR-10 数据集包含 5 个部分，名称分别为 `data_batch_1`、`data_batch_2`，以此类推。每个部分都包含以下某个类别的标签和图片：\n",
    "\n",
    "* 飞机\n",
    "* 汽车\n",
    "* 鸟类\n",
    "* 猫\n",
    "* 鹿\n",
    "* 狗\n",
    "* 青蛙\n",
    "* 马\n",
    "* 船只\n",
    "* 卡车\n",
    "\n",
    "了解数据集也是对数据进行预测的必经步骤。你可以通过更改 `batch_id` 和 `sample_id` 探索下面的代码单元。`batch_id` 是数据集一个部分的 ID（1 到 5）。`sample_id` 是该部分中图片和标签对（label pair）的 ID。\n",
    "\n",
    "问问你自己：“可能的标签有哪些？”、“图片数据的值范围是多少？”、“标签是按顺序排列，还是随机排列的？”。思考类似的问题，有助于你预处理数据，并使预测结果更准确。\n"
   ]
  },
  {
   "cell_type": "code",
   "execution_count": 2,
   "metadata": {},
   "outputs": [
    {
     "name": "stdout",
     "output_type": "stream",
     "text": [
      "\n",
      "Stats of batch 2:\n",
      "Samples: 10000\n",
      "Label Counts: {0: 984, 1: 1007, 2: 1010, 3: 995, 4: 1010, 5: 988, 6: 1008, 7: 1026, 8: 987, 9: 985}\n",
      "First 20 Labels: [1, 6, 6, 8, 8, 3, 4, 6, 0, 6, 0, 3, 6, 6, 5, 4, 8, 3, 2, 6]\n",
      "\n",
      "Example of Image 19:\n",
      "Image - Min Value: 3 Max Value: 245\n",
      "Image - Shape: (32, 32, 3)\n",
      "Label - Label Id: 6 Name: frog\n"
     ]
    },
    {
     "data": {
      "image/png": "[encoded data removed]",
      "text/plain": [
       "<Figure size 432x288 with 1 Axes>"
      ]
     },
     "metadata": {
      "image/png": {
       "height": 250,
       "width": 253
      }
     },
     "output_type": "display_data"
    }
   ],
   "source": [
    "%matplotlib inline\n",
    "%config InlineBackend.figure_format = 'retina'\n",
    "\n",
    "import helper\n",
    "import numpy as np\n",
    "\n",
    "# Explore the dataset\n",
    "batch_id = 2\n",
    "sample_id = 19\n",
    "helper.display_stats(cifar10_dataset_folder_path, batch_id, sample_id)"
   ]
  },
  {
   "cell_type": "markdown",
   "metadata": {},
   "source": [
    "## 实现预处理函数\n",
    "\n",
    "### 标准化\n",
    "\n",
    "在下面的单元中，实现 `normalize` 函数，传入图片数据 `x`，并返回标准化 Numpy 数组。值应该在 0 到 1 的范围内（含 0 和 1）。返回对象应该和 `x` 的形状一样。\n"
   ]
  },
  {
   "cell_type": "code",
   "execution_count": 3,
   "metadata": {},
   "outputs": [
    {
     "name": "stdout",
     "output_type": "stream",
     "text": [
      "Tests Passed\n"
     ]
    }
   ],
   "source": [
    "def normalize(x):\n",
    "    \"\"\"\n",
    "    Normalize a list of sample image data in the range of 0 to 1\n",
    "    : x: List of image data.  The image shape is (32, 32, 3)\n",
    "    : return: Numpy array of normalize data\n",
    "    \"\"\"\n",
    "    # TODO: Implement Function\n",
    "    return np.array(x/255)\n",
    "\n",
    "\n",
    "\"\"\"\n",
    "DON'T MODIFY ANYTHING IN THIS CELL THAT IS BELOW THIS LINE\n",
    "\"\"\"\n",
    "tests.test_normalize(normalize)"
   ]
  },
  {
   "cell_type": "markdown",
   "metadata": {},
   "source": [
    "### One-hot 编码\n",
    "\n",
    "和之前的代码单元一样，你将为预处理实现一个函数。这次，你将实现 `one_hot_encode` 函数。输入，也就是 `x`，是一个标签列表。实现该函数，以返回为 one_hot 编码的 Numpy 数组的标签列表。标签的可能值为 0 到 9。每次调用 `one_hot_encode` 时，对于每个值，one_hot 编码函数应该返回相同的编码。确保将编码映射保存到该函数外面。\n",
    "\n",
    "提示：不要重复发明轮子。\n"
   ]
  },
  {
   "cell_type": "code",
   "execution_count": 4,
   "metadata": {},
   "outputs": [
    {
     "name": "stdout",
     "output_type": "stream",
     "text": [
      "Tests Passed\n"
     ]
    }
   ],
   "source": [
    "from sklearn import preprocessing\n",
    "one_hot_labels = np.array([0,1,2,3,4,5,6,7,8,9])\n",
    "lb_one_hot = preprocessing.LabelBinarizer()\n",
    "lb_one_hot.fit(one_hot_labels)\n",
    "\n",
    "def one_hot_encode(x):\n",
    "    \"\"\"\n",
    "    One hot encode a list of sample labels. Return a one-hot encoded vector for each label.\n",
    "    : x: List of sample Labels\n",
    "    : return: Numpy array of one-hot encoded labels\n",
    "    \"\"\"\n",
    "    # TODO: Implement Function\n",
    "    return lb_one_hot.transform(x)\n",
    "\n",
    "\n",
    "\"\"\"\n",
    "DON'T MODIFY ANYTHING IN THIS CELL THAT IS BELOW THIS LINE\n",
    "\"\"\"\n",
    "tests.test_one_hot_encode(one_hot_encode)"
   ]
  },
  {
   "cell_type": "markdown",
   "metadata": {},
   "source": [
    "### 随机化数据\n",
    "\n",
    "之前探索数据时，你已经了解到，样本的顺序是随机的。再随机化一次也不会有什么关系，但是对于这个数据集没有必要。\n"
   ]
  },
  {
   "cell_type": "markdown",
   "metadata": {},
   "source": [
    "## 预处理所有数据并保存\n",
    "\n",
    "运行下方的代码单元，将预处理所有 CIFAR-10 数据，并保存到文件中。下面的代码还使用了 10% 的训练数据，用来验证。\n"
   ]
  },
  {
   "cell_type": "code",
   "execution_count": 5,
   "metadata": {},
   "outputs": [],
   "source": [
    "\"\"\"\n",
    "DON'T MODIFY ANYTHING IN THIS CELL\n",
    "\"\"\"\n",
    "# Preprocess Training, Validation, and Testing Data\n",
    "helper.preprocess_and_save_data(cifar10_dataset_folder_path, normalize, one_hot_encode)"
   ]
  },
  {
   "cell_type": "markdown",
   "metadata": {},
   "source": [
    "# 检查点\n",
    "\n",
    "这是你的第一个检查点。如果你什么时候决定再回到该记事本，或需要重新启动该记事本，你可以从这里开始。预处理的数据已保存到本地。\n"
   ]
  },
  {
   "cell_type": "code",
   "execution_count": 6,
   "metadata": {},
   "outputs": [],
   "source": [
    "\"\"\"\n",
    "DON'T MODIFY ANYTHING IN THIS CELL\n",
    "\"\"\"\n",
    "import pickle\n",
    "import problem_unittests as tests\n",
    "import helper\n",
    "\n",
    "# Load the Preprocessed Validation data\n",
    "valid_features, valid_labels = pickle.load(open('preprocess_validation.p', mode='rb'))"
   ]
  },
  {
   "cell_type": "markdown",
   "metadata": {},
   "source": [
    "## 构建网络\n",
    "\n",
    "对于该神经网络，你需要将每层都构建为一个函数。你看到的大部分代码都位于函数外面。要更全面地测试你的代码，我们需要你将每层放入一个函数中。这样使我们能够提供更好的反馈，并使用我们的统一测试检测简单的错误，然后再提交项目。\n",
    "\n",
    ">**注意**：如果你觉得每周很难抽出足够的时间学习这门课程，我们为此项目提供了一个小捷径。对于接下来的几个问题，你可以使用 [TensorFlow Layers](https://www.tensorflow.org/api_docs/python/tf/layers) 或 [TensorFlow Layers (contrib)](https://www.tensorflow.org/api_guides/python/contrib.layers) 程序包中的类来构建每个层级，但是“卷积和最大池化层级”部分的层级除外。TF Layers 和 Keras 及 TFLearn 层级类似，因此很容易学会。\n",
    "\n",
    ">但是，如果你想充分利用这门课程，请尝试自己解决所有问题，不使用 TF Layers 程序包中的任何类。你依然可以使用其他程序包中的类，这些类和你在 TF Layers 中的类名称是一样的！例如，你可以使用 TF Neural Network 版本的 `conv2d` 类 [tf.nn.conv2d](https://www.tensorflow.org/api_docs/python/tf/nn/conv2d)，而不是 TF Layers 版本的 `conv2d` 类 [tf.layers.conv2d](https://www.tensorflow.org/api_docs/python/tf/layers/conv2d)。\n",
    "\n",
    "我们开始吧！\n",
    "\n",
    "\n",
    "### 输入\n",
    "\n",
    "神经网络需要读取图片数据、one-hot 编码标签和丢弃保留概率（dropout keep probability）。请实现以下函数：\n",
    "\n",
    "* 实现 `neural_net_image_input`\n",
    " * 返回 [TF Placeholder](https://www.tensorflow.org/api_docs/python/tf/placeholder)\n",
    " * 使用 `image_shape` 设置形状，部分大小设为 `None`\n",
    " * 使用 [TF Placeholder](https://www.tensorflow.org/api_docs/python/tf/placeholder) 中的 TensorFlow `name` 参数对 TensorFlow 占位符 \"x\" 命名\n",
    "* 实现 `neural_net_label_input`\n",
    " * 返回 [TF Placeholder](https://www.tensorflow.org/api_docs/python/tf/placeholder)\n",
    " * 使用 `n_classes` 设置形状，部分大小设为 `None`\n",
    " * 使用 [TF Placeholder](https://www.tensorflow.org/api_docs/python/tf/placeholder) 中的 TensorFlow `name` 参数对 TensorFlow 占位符 \"y\" 命名\n",
    "* 实现 `neural_net_keep_prob_input`\n",
    " * 返回 [TF Placeholder](https://www.tensorflow.org/api_docs/python/tf/placeholder)，用于丢弃保留概率\n",
    " * 使用 [TF Placeholder](https://www.tensorflow.org/api_docs/python/tf/placeholder) 中的 TensorFlow `name` 参数对 TensorFlow 占位符 \"keep_prob\" 命名\n",
    "\n",
    "这些名称将在项目结束时，用于加载保存的模型。\n",
    "\n",
    "注意：TensorFlow 中的 `None` 表示形状可以是动态大小。"
   ]
  },
  {
   "cell_type": "code",
   "execution_count": 7,
   "metadata": {},
   "outputs": [
    {
     "name": "stdout",
     "output_type": "stream",
     "text": [
      "Image Input Tests Passed.\n",
      "Label Input Tests Passed.\n",
      "Keep Prob Tests Passed.\n"
     ]
    }
   ],
   "source": [
    "import tensorflow as tf\n",
    "\n",
    "def neural_net_image_input(image_shape):\n",
    "    \"\"\"\n",
    "    Return a Tensor for a batch of image input\n",
    "    : image_shape: Shape of the images\n",
    "    : return: Tensor for image input.\n",
    "    \"\"\"\n",
    "    # TODO: Implement Function\n",
    "#     shape_paras = [None]\n",
    "#     for k in image_shape:\n",
    "#         shape_paras.append(k)\n",
    "        \n",
    "#     return tf.placeholder(tf.float32, shape=tuple(shape_paras), name=\"x\")\n",
    "    return tf.placeholder(tf.float32, shape=[None, *image_shape], name=\"x\")\n",
    "\n",
    "\n",
    "def neural_net_label_input(n_classes):\n",
    "    \"\"\"\n",
    "    Return a Tensor for a batch of label input\n",
    "    : n_classes: Number of classes\n",
    "    : return: Tensor for label input.\n",
    "    \"\"\"\n",
    "    # TODO: Implement Function\n",
    "    return tf.placeholder(tf.float32, shape=(None, n_classes), name=\"y\")\n",
    "\n",
    "\n",
    "def neural_net_keep_prob_input():\n",
    "    \"\"\"\n",
    "    Return a Tensor for keep probability\n",
    "    : return: Tensor for keep probability.\n",
    "    \"\"\"\n",
    "    # TODO: Implement Function\n",
    "    return tf.placeholder(tf.float32, name=\"keep_prob\")\n",
    "\n",
    "\n",
    "\"\"\"\n",
    "DON'T MODIFY ANYTHING IN THIS CELL THAT IS BELOW THIS LINE\n",
    "\"\"\"\n",
    "tf.reset_default_graph()\n",
    "tests.test_nn_image_inputs(neural_net_image_input)\n",
    "tests.test_nn_label_inputs(neural_net_label_input)\n",
    "tests.test_nn_keep_prob_inputs(neural_net_keep_prob_input)"
   ]
  },
  {
   "cell_type": "markdown",
   "metadata": {},
   "source": [
    "### 卷积和最大池化层\n",
    "\n",
    "卷积层级适合处理图片。对于此代码单元，你应该实现函数 `conv2d_maxpool` 以便应用卷积然后进行最大池化：\n",
    "\n",
    "* 使用 `conv_ksize`、`conv_num_outputs` 和 `x_tensor` 的形状创建权重（weight）和偏置（bias）。\n",
    "* 使用权重和 `conv_strides` 对 `x_tensor` 应用卷积。\n",
    " * 建议使用我们建议的间距（padding），当然也可以使用任何其他间距。\n",
    "* 添加偏置\n",
    "* 向卷积中添加非线性激活（nonlinear activation）\n",
    "* 使用 `pool_ksize` 和 `pool_strides` 应用最大池化\n",
    " * 建议使用我们建议的间距（padding），当然也可以使用任何其他间距。\n",
    "\n",
    "**注意**：对于**此层**，**请勿使用** [TensorFlow Layers](https://www.tensorflow.org/api_docs/python/tf/layers) 或 [TensorFlow Layers (contrib)](https://www.tensorflow.org/api_guides/python/contrib.layers)，但是仍然可以使用 TensorFlow 的 [Neural Network](https://www.tensorflow.org/api_docs/python/tf/nn) 包。对于所有**其他层**，你依然可以使用快捷方法。\n"
   ]
  },
  {
   "cell_type": "code",
   "execution_count": 8,
   "metadata": {},
   "outputs": [
    {
     "name": "stdout",
     "output_type": "stream",
     "text": [
      "Tests Passed\n"
     ]
    }
   ],
   "source": [
    "def conv2d_maxpool(x_tensor, conv_num_outputs, conv_ksize, conv_strides, pool_ksize, pool_strides):\n",
    "    \"\"\"\n",
    "    Apply convolution then max pooling to x_tensor\n",
    "    :param x_tensor: TensorFlow Tensor\n",
    "    :param conv_num_outputs: Number of outputs for the convolutional layer\n",
    "    :param conv_ksize: kernal size 2-D Tuple for the convolutional layer\n",
    "    :param conv_strides: Stride 2-D Tuple for convolution\n",
    "    :param pool_ksize: kernal size 2-D Tuple for pool\n",
    "    :param pool_strides: Stride 2-D Tuple for pool\n",
    "    : return: A tensor that represents convolution and max pooling of x_tensor\n",
    "    \"\"\"\n",
    "    # TODO: Implement Function\n",
    "    # shape of ksize: [batch, height, width, channels]\n",
    "    \n",
    "    # Define filter weight and bias\n",
    "    # The shape of the filter weight is (height, width, in_color_channels, output_depth)\n",
    "    color_channels = tf.cast(x_tensor.get_shape()[3], tf.int32)\n",
    "    f_w = tf.Variable(tf.truncated_normal([conv_ksize[0], conv_ksize[1], color_channels, conv_num_outputs], 0, 0.05))\n",
    "    f_b = tf.Variable(tf.zeros(conv_num_outputs))\n",
    "    \n",
    "    # -- create conv layer\n",
    "    # Given an input tensor of shape [batch, in_height, in_width, in_channels] \n",
    "    # and a filter / kernel tensor of shape [filter_height, filter_width, in_channels, out_channels]\n",
    "    conv_layer = tf.nn.conv2d(x_tensor, f_w, strides=(1,conv_strides[0],conv_strides[1],1), padding='SAME')\n",
    "    conv_layer = tf.nn.bias_add(conv_layer, f_b)\n",
    "    conv_layer = tf.nn.relu(conv_layer)\n",
    "    \n",
    "    # -- use max_pool on conv layer\n",
    "    conv_layer = tf.nn.max_pool(conv_layer, \n",
    "                              ksize=(1,pool_ksize[0],pool_ksize[1],1), \n",
    "                              strides=(1,pool_strides[0],pool_strides[1],1), \n",
    "                              padding='SAME')\n",
    "    \n",
    "    return conv_layer \n",
    "\n",
    "\n",
    "\"\"\"\n",
    "DON'T MODIFY ANYTHING IN THIS CELL THAT IS BELOW THIS LINE\n",
    "\"\"\"\n",
    "tests.test_con_pool(conv2d_maxpool)"
   ]
  },
  {
   "cell_type": "markdown",
   "metadata": {},
   "source": [
    "### 扁平化层\n",
    "\n",
    "实现 `flatten` 函数，将 `x_tensor` 的维度从四维张量（4-D tensor）变成二维张量。输出应该是形状（*部分大小（Batch Size）*，*扁平化图片大小（Flattened Image Size）*）。快捷方法：对于此层，你可以使用 [TensorFlow Layers](https://www.tensorflow.org/api_docs/python/tf/layers) 或 [TensorFlow Layers (contrib)](https://www.tensorflow.org/api_guides/python/contrib.layers) 包中的类。如果你想要更大挑战，可以仅使用其他 TensorFlow 程序包。\n"
   ]
  },
  {
   "cell_type": "code",
   "execution_count": 9,
   "metadata": {},
   "outputs": [
    {
     "name": "stdout",
     "output_type": "stream",
     "text": [
      "Tests Passed\n"
     ]
    }
   ],
   "source": [
    "import numpy as np\n",
    "\n",
    "def flatten(x_tensor):\n",
    "    \"\"\"\n",
    "    Flatten x_tensor to (Batch Size, Flattened Image Size)\n",
    "    : x_tensor: A tensor of size (Batch Size, ...), where ... are the image dimensions.\n",
    "    : return: A tensor of size (Batch Size, Flattened Image Size).\n",
    "    \"\"\"\n",
    "    # TODO: Implement Function\n",
    "    #return tf.layers.flatten(x_tensor)\n",
    "    in_shape = x_tensor.get_shape().as_list()\n",
    "    image_size = np.prod(in_shape[1:])\n",
    "    \n",
    "    return tf.reshape(x_tensor, [-1, image_size])\n",
    "\n",
    "\n",
    "\"\"\"\n",
    "DON'T MODIFY ANYTHING IN THIS CELL THAT IS BELOW THIS LINE\n",
    "\"\"\"\n",
    "tests.test_flatten(flatten)"
   ]
  },
  {
   "cell_type": "markdown",
   "metadata": {},
   "source": [
    "### 全连接层\n",
    "\n",
    "实现 `fully_conn` 函数，以向 `x_tensor` 应用全连接层，形状为（*部分大小（Batch Size）*，*num_outputs*）。快捷方法：对于此层，你可以使用 [TensorFlow Layers](https://www.tensorflow.org/api_docs/python/tf/layers) 或 [TensorFlow Layers (contrib)](https://www.tensorflow.org/api_guides/python/contrib.layers) 包中的类。如果你想要更大挑战，可以仅使用其他 TensorFlow 程序包。"
   ]
  },
  {
   "cell_type": "code",
   "execution_count": 10,
   "metadata": {},
   "outputs": [
    {
     "name": "stdout",
     "output_type": "stream",
     "text": [
      "Tests Passed\n"
     ]
    }
   ],
   "source": [
    "def fully_conn(x_tensor, num_outputs):\n",
    "    \"\"\"\n",
    "    Apply a fully connected layer to x_tensor using weight and bias\n",
    "    : x_tensor: A 2-D tensor where the first dimension is batch size.\n",
    "    : num_outputs: The number of output that the new tensor should be.\n",
    "    : return: A 2-D tensor where the second dimension is num_outputs.\n",
    "    \"\"\"\n",
    "    # TODO: Implement Function\n",
    "    return tf.contrib.layers.fully_connected(x_tensor, num_outputs)\n",
    "    \n",
    "\"\"\"\n",
    "DON'T MODIFY ANYTHING IN THIS CELL THAT IS BELOW THIS LINE\n",
    "\"\"\"\n",
    "tests.test_fully_conn(fully_conn)"
   ]
  },
  {
   "cell_type": "markdown",
   "metadata": {},
   "source": [
    "### 输出层\n",
    "\n",
    "实现 `output` 函数，向 x_tensor 应用完全连接的层级，形状为（*部分大小（Batch Size）*，*num_outputs*）。快捷方法：对于此层，你可以使用 [TensorFlow Layers](https://www.tensorflow.org/api_docs/python/tf/layers) 或 [TensorFlow Layers (contrib)](https://www.tensorflow.org/api_guides/python/contrib.layers) 包中的类。如果你想要更大挑战，可以仅使用其他 TensorFlow 程序包。\n",
    "\n",
    "**注意**：该层级不应应用 Activation、softmax 或交叉熵（cross entropy）。"
   ]
  },
  {
   "cell_type": "code",
   "execution_count": 11,
   "metadata": {},
   "outputs": [
    {
     "name": "stdout",
     "output_type": "stream",
     "text": [
      "Tests Passed\n"
     ]
    }
   ],
   "source": [
    "def output(x_tensor, num_outputs):\n",
    "    \"\"\"\n",
    "    Apply a output layer to x_tensor using weight and bias\n",
    "    : x_tensor: A 2-D tensor where the first dimension is batch size.\n",
    "    : num_outputs: The number of output that the new tensor should be.\n",
    "    : return: A 2-D tensor where the second dimension is num_outputs.\n",
    "    \"\"\"\n",
    "    # TODO: Implement Function\n",
    "    # get the input image size (1-D tensor)\n",
    "    image_size = x_tensor.get_shape().as_list()[1]\n",
    "    o_weight = tf.Variable(tf.truncated_normal([image_size, num_outputs], 0, 0.05))\n",
    "    o_bias = tf.Variable(tf.zeros(num_outputs))\n",
    "    \n",
    "    out = tf.add(tf.matmul(x_tensor, o_weight), o_bias)\n",
    "    return out\n",
    "\n",
    "\n",
    "\"\"\"\n",
    "DON'T MODIFY ANYTHING IN THIS CELL THAT IS BELOW THIS LINE\n",
    "\"\"\"\n",
    "tests.test_output(output)"
   ]
  },
  {
   "cell_type": "markdown",
   "metadata": {},
   "source": [
    "### 创建卷积模型\n",
    "\n",
    "实现函数 `conv_net`， 创建卷积神经网络模型。该函数传入一批图片 `x`，并输出对数（logits）。使用你在上方创建的层创建此模型：\n",
    "\n",
    "* 应用 1、2 或 3 个卷积和最大池化层（Convolution and Max Pool layers）\n",
    "* 应用一个扁平层（Flatten Layer）\n",
    "* 应用 1、2 或 3 个完全连接层（Fully Connected Layers）\n",
    "* 应用一个输出层（Output Layer）\n",
    "* 返回输出\n",
    "* 使用 `keep_prob` 向模型中的一个或多个层应用 [TensorFlow 的 Dropout](https://www.tensorflow.org/api_docs/python/tf/nn/dropout)"
   ]
  },
  {
   "cell_type": "code",
   "execution_count": 29,
   "metadata": {},
   "outputs": [
    {
     "name": "stdout",
     "output_type": "stream",
     "text": [
      "Neural Network Built!\n"
     ]
    }
   ],
   "source": [
    "def conv_net(x, keep_prob):\n",
    "    \"\"\"\n",
    "    Create a convolutional neural network model\n",
    "    : x: Placeholder tensor that holds image data.\n",
    "    : keep_prob: Placeholder tensor that hold dropout keep probability.\n",
    "    : return: Tensor that represents logits\n",
    "    \"\"\"\n",
    "    # TODO: Apply 1, 2, or 3 Convolution and Max Pool layers\n",
    "    #    Play around with different number of outputs, kernel size and stride\n",
    "    # Function Definition from Above:\n",
    "    #    conv2d_maxpool(x_tensor, conv_num_outputs, conv_ksize, conv_strides, pool_ksize, pool_strides)\n",
    "    \n",
    "    # Layer-1:  32*32*3 to 16*16*16\n",
    "    conv_num_outputs = 16\n",
    "    conv_k = (3, 3)\n",
    "    conv_s = (1, 1)\n",
    "    conv_pool_k = (2, 2)\n",
    "    conv_pool_s = (2, 2)\n",
    "    conv1 = conv2d_maxpool(x, conv_num_outputs, conv_k, conv_s, conv_pool_k, conv_pool_s)\n",
    "#     conv1 = tf.nn.dropout(conv1, keep_prob)\n",
    "    \n",
    "    # Layer-2: 16*16*16 to 8*8*32\n",
    "    conv_num_outputs = 32\n",
    "    conv_k = (3, 3)\n",
    "    conv_s = (1, 1)\n",
    "    conv_pool_k = (2, 2)\n",
    "    conv_pool_s = (2, 2)\n",
    "    conv2 = conv2d_maxpool(conv1, conv_num_outputs, conv_k, conv_s, conv_pool_k, conv_pool_s)\n",
    "    \n",
    "    # Layer-3: 8*8*32 to 4*4*64\n",
    "    conv_num_outputs = 64\n",
    "    conv_k = (3, 3)\n",
    "    conv_s = (1, 1)\n",
    "    conv_pool_k = (2, 2)\n",
    "    conv_pool_s = (2, 2)\n",
    "    conv_out = conv2d_maxpool(conv2, conv_num_outputs, conv_k, conv_s, conv_pool_k, conv_pool_s)\n",
    "\n",
    "    # TODO: Apply a Flatten Layer\n",
    "    # Function Definition from Above:\n",
    "    #   flatten(x_tensor)\n",
    "    flat_out = flatten(conv_out)\n",
    "#     flat_out = tf.nn.dropout(flat_out, keep_prob)\n",
    "\n",
    "    # TODO: Apply 1, 2, or 3 Fully Connected Layers\n",
    "    #    Play around with different number of outputs\n",
    "    # Function Definition from Above:\n",
    "    #   fully_conn(x_tensor, num_outputs)\n",
    "    fully_out = fully_conn(flat_out, 384)\n",
    "    fully_out = tf.nn.dropout(fully_out, keep_prob)\n",
    "    \n",
    "    \n",
    "    # TODO: Apply an Output Layer\n",
    "    #    Set this to the number of classes\n",
    "    # Function Definition from Above:\n",
    "    #   output(x_tensor, num_outputs)\n",
    "    out = output(fully_out, 10)\n",
    "    \n",
    "    # TODO: return output\n",
    "    return out\n",
    "\n",
    "\n",
    "\"\"\"\n",
    "DON'T MODIFY ANYTHING IN THIS CELL THAT IS BELOW THIS LINE\n",
    "\"\"\"\n",
    "\n",
    "##############################\n",
    "## Build the Neural Network ##\n",
    "##############################\n",
    "\n",
    "# Remove previous weights, bias, inputs, etc..\n",
    "tf.reset_default_graph()\n",
    "\n",
    "# Inputs\n",
    "x = neural_net_image_input((32, 32, 3))\n",
    "y = neural_net_label_input(10)\n",
    "keep_prob = neural_net_keep_prob_input()\n",
    "\n",
    "# Model\n",
    "logits = conv_net(x, keep_prob)\n",
    "\n",
    "# Name logits Tensor, so that is can be loaded from disk after training\n",
    "logits = tf.identity(logits, name='logits')\n",
    "\n",
    "# Loss and Optimizer\n",
    "cost = tf.reduce_mean(tf.nn.softmax_cross_entropy_with_logits(logits=logits, labels=y))\n",
    "optimizer = tf.train.AdamOptimizer().minimize(cost)\n",
    "\n",
    "# Accuracy\n",
    "correct_pred = tf.equal(tf.argmax(logits, 1), tf.argmax(y, 1))\n",
    "accuracy = tf.reduce_mean(tf.cast(correct_pred, tf.float32), name='accuracy')\n",
    "\n",
    "tests.test_conv_net(conv_net)"
   ]
  },
  {
   "cell_type": "markdown",
   "metadata": {},
   "source": [
    "## 训练神经网络\n",
    "\n",
    "### 单次优化\n",
    "\n",
    "实现函数 `train_neural_network` 以进行单次优化（single optimization）。该优化应该使用 `optimizer` 优化 `session`，其中 `feed_dict` 具有以下参数：\n",
    "\n",
    "* `x` 表示图片输入\n",
    "* `y` 表示标签\n",
    "* `keep_prob` 表示丢弃的保留率\n",
    "\n",
    "每个部分都会调用该函数，所以 `tf.global_variables_initializer()` 已经被调用。\n",
    "\n",
    "注意：不需要返回任何内容。该函数只是用来优化神经网络。\n"
   ]
  },
  {
   "cell_type": "code",
   "execution_count": 30,
   "metadata": {},
   "outputs": [
    {
     "name": "stdout",
     "output_type": "stream",
     "text": [
      "Tests Passed\n"
     ]
    }
   ],
   "source": [
    "def train_neural_network(session, optimizer, keep_probability, feature_batch, label_batch):\n",
    "    \"\"\"\n",
    "    Optimize the session on a batch of images and labels\n",
    "    : session: Current TensorFlow session\n",
    "    : optimizer: TensorFlow optimizer function\n",
    "    : keep_probability: keep probability\n",
    "    : feature_batch: Batch of Numpy image data\n",
    "    : label_batch: Batch of Numpy label data\n",
    "    \"\"\"\n",
    "    # TODO: Implement Function\n",
    "    session.run(optimizer, feed_dict={x: feature_batch, y: label_batch, keep_prob: keep_probability})\n",
    "    pass\n",
    "\n",
    "\n",
    "\"\"\"\n",
    "DON'T MODIFY ANYTHING IN THIS CELL THAT IS BELOW THIS LINE\n",
    "\"\"\"\n",
    "tests.test_train_nn(train_neural_network)"
   ]
  },
  {
   "cell_type": "markdown",
   "metadata": {},
   "source": [
    "### 显示数据\n",
    "\n",
    "实现函数 `print_stats` 以输出损失和验证准确率。使用全局变量 `valid_features` 和 `valid_labels` 计算验证准确率。使用保留率 `1.0` 计算损失和验证准确率（loss and validation accuracy）。\n"
   ]
  },
  {
   "cell_type": "code",
   "execution_count": 31,
   "metadata": {},
   "outputs": [],
   "source": [
    "def print_stats(session, feature_batch, label_batch, cost, accuracy):\n",
    "    \"\"\"\n",
    "    Print information about loss and validation accuracy\n",
    "    : session: Current TensorFlow session\n",
    "    : feature_batch: Batch of Numpy image data\n",
    "    : label_batch: Batch of Numpy label data\n",
    "    : cost: TensorFlow cost function\n",
    "    : accuracy: TensorFlow accuracy function\n",
    "    \"\"\"\n",
    "    # TODO: Implement Function\n",
    "    \n",
    "    # Calculate batch loss and accuracy\n",
    "    loss = session.run(cost, feed_dict={x:feature_batch, y:label_batch, keep_prob:1.0})\n",
    "    valid_acc = session.run(accuracy, feed_dict={x:valid_features, y:valid_labels, keep_prob:1.0})\n",
    "    \n",
    "    print('Loss: {:>4.4f}, Valid Accuracy: {:>.6f}'.format(loss, valid_acc))\n",
    "    pass"
   ]
  },
  {
   "cell_type": "markdown",
   "metadata": {},
   "source": [
    "### 超参数\n",
    "\n",
    "调试以下超参数：\n",
    "* 设置 `epochs` 表示神经网络停止学习或开始过拟合的迭代次数\n",
    "* 设置 `batch_size`，表示机器内存允许的部分最大体积。大部分人设为以下常见内存大小：\n",
    "\n",
    " * 64\n",
    " * 128\n",
    " * 256\n",
    " * ...\n",
    "* 设置 `keep_probability` 表示使用丢弃时保留节点的概率"
   ]
  },
  {
   "cell_type": "code",
   "execution_count": 32,
   "metadata": {},
   "outputs": [],
   "source": [
    "# TODO: Tune Parameters\n",
    "epochs = 30\n",
    "batch_size = 128\n",
    "keep_probability = 0.75"
   ]
  },
  {
   "cell_type": "markdown",
   "metadata": {},
   "source": [
    "### 在单个 CIFAR-10 部分上训练\n",
    "\n",
    "我们先用单个部分，而不是用所有的 CIFAR-10 批次训练神经网络。这样可以节省时间，并对模型进行迭代，以提高准确率。最终验证准确率达到 50% 或以上之后，在下一部分对所有数据运行模型。\n"
   ]
  },
  {
   "cell_type": "code",
   "execution_count": 34,
   "metadata": {},
   "outputs": [
    {
     "name": "stdout",
     "output_type": "stream",
     "text": [
      "Checking the Training on a Single Batch...\n",
      "Epoch  1, CIFAR-10 Batch 1:  Loss: 2.1959, Valid Accuracy: 0.308200\n",
      "Epoch  2, CIFAR-10 Batch 1:  Loss: 1.9669, Valid Accuracy: 0.375600\n",
      "Epoch  3, CIFAR-10 Batch 1:  Loss: 1.7505, Valid Accuracy: 0.425800\n",
      "Epoch  4, CIFAR-10 Batch 1:  Loss: 1.6239, Valid Accuracy: 0.441600\n",
      "Epoch  5, CIFAR-10 Batch 1:  Loss: 1.4958, Valid Accuracy: 0.465200\n",
      "Epoch  6, CIFAR-10 Batch 1:  Loss: 1.4326, Valid Accuracy: 0.479000\n",
      "Epoch  7, CIFAR-10 Batch 1:  Loss: 1.3301, Valid Accuracy: 0.484000\n",
      "Epoch  8, CIFAR-10 Batch 1:  Loss: 1.2569, Valid Accuracy: 0.498600\n",
      "Epoch  9, CIFAR-10 Batch 1:  Loss: 1.1471, Valid Accuracy: 0.510000\n",
      "Epoch 10, CIFAR-10 Batch 1:  Loss: 1.0950, Valid Accuracy: 0.513200\n",
      "Epoch 11, CIFAR-10 Batch 1:  Loss: 0.9893, Valid Accuracy: 0.519600\n",
      "Epoch 12, CIFAR-10 Batch 1:  Loss: 0.8674, Valid Accuracy: 0.518600\n",
      "Epoch 13, CIFAR-10 Batch 1:  Loss: 0.7568, Valid Accuracy: 0.538200\n",
      "Epoch 14, CIFAR-10 Batch 1:  Loss: 0.7037, Valid Accuracy: 0.546600\n",
      "Epoch 15, CIFAR-10 Batch 1:  Loss: 0.6307, Valid Accuracy: 0.547200\n",
      "Epoch 16, CIFAR-10 Batch 1:  Loss: 0.5676, Valid Accuracy: 0.562000\n",
      "Epoch 17, CIFAR-10 Batch 1:  Loss: 0.4614, Valid Accuracy: 0.565800\n",
      "Epoch 18, CIFAR-10 Batch 1:  Loss: 0.4125, Valid Accuracy: 0.561000\n",
      "Epoch 19, CIFAR-10 Batch 1:  Loss: 0.3705, Valid Accuracy: 0.565000\n",
      "Epoch 20, CIFAR-10 Batch 1:  Loss: 0.2741, Valid Accuracy: 0.576000\n",
      "Epoch 21, CIFAR-10 Batch 1:  Loss: 0.2662, Valid Accuracy: 0.578800\n",
      "Epoch 22, CIFAR-10 Batch 1:  Loss: 0.2384, Valid Accuracy: 0.584600\n",
      "Epoch 23, CIFAR-10 Batch 1:  Loss: 0.2553, Valid Accuracy: 0.576400\n",
      "Epoch 24, CIFAR-10 Batch 1:  Loss: 0.2471, Valid Accuracy: 0.556000\n",
      "Epoch 25, CIFAR-10 Batch 1:  Loss: 0.1645, Valid Accuracy: 0.576000\n",
      "Epoch 26, CIFAR-10 Batch 1:  Loss: 0.1371, Valid Accuracy: 0.571600\n",
      "Epoch 27, CIFAR-10 Batch 1:  Loss: 0.1649, Valid Accuracy: 0.558600\n",
      "Epoch 28, CIFAR-10 Batch 1:  Loss: 0.0729, Valid Accuracy: 0.572800\n",
      "Epoch 29, CIFAR-10 Batch 1:  Loss: 0.0816, Valid Accuracy: 0.575600\n",
      "Epoch 30, CIFAR-10 Batch 1:  Loss: 0.0700, Valid Accuracy: 0.577400\n"
     ]
    }
   ],
   "source": [
    "\"\"\"\n",
    "DON'T MODIFY ANYTHING IN THIS CELL\n",
    "\"\"\"\n",
    "print('Checking the Training on a Single Batch...')\n",
    "with tf.Session() as sess:\n",
    "    # Initializing the variables\n",
    "    sess.run(tf.global_variables_initializer())\n",
    "    \n",
    "    # Training cycle\n",
    "    for epoch in range(epochs):\n",
    "        batch_i = 1\n",
    "        for batch_features, batch_labels in helper.load_preprocess_training_batch(batch_i, batch_size):\n",
    "            train_neural_network(sess, optimizer, keep_probability, batch_features, batch_labels)\n",
    "        print('Epoch {:>2}, CIFAR-10 Batch {}:  '.format(epoch + 1, batch_i), end='')\n",
    "        print_stats(sess, batch_features, batch_labels, cost, accuracy)"
   ]
  },
  {
   "cell_type": "markdown",
   "metadata": {},
   "source": [
    "### 完全训练模型\n",
    "\n",
    "现在，单个 CIFAR-10 部分的准确率已经不错了，试试所有五个部分吧。"
   ]
  },
  {
   "cell_type": "code",
   "execution_count": 35,
   "metadata": {},
   "outputs": [
    {
     "name": "stdout",
     "output_type": "stream",
     "text": [
      "Training...\n",
      "Epoch  1, CIFAR-10 Batch 1:  Loss: 2.2033, Valid Accuracy: 0.314800\n",
      "Epoch  1, CIFAR-10 Batch 2:  Loss: 1.7495, Valid Accuracy: 0.374800\n",
      "Epoch  1, CIFAR-10 Batch 3:  Loss: 1.4392, Valid Accuracy: 0.408400\n",
      "Epoch  1, CIFAR-10 Batch 4:  Loss: 1.5269, Valid Accuracy: 0.456600\n",
      "Epoch  1, CIFAR-10 Batch 5:  Loss: 1.5214, Valid Accuracy: 0.486800\n",
      "Epoch  2, CIFAR-10 Batch 1:  Loss: 1.6417, Valid Accuracy: 0.499200\n",
      "Epoch  2, CIFAR-10 Batch 2:  Loss: 1.4415, Valid Accuracy: 0.491600\n",
      "Epoch  2, CIFAR-10 Batch 3:  Loss: 1.2093, Valid Accuracy: 0.509200\n",
      "Epoch  2, CIFAR-10 Batch 4:  Loss: 1.2744, Valid Accuracy: 0.529400\n",
      "Epoch  2, CIFAR-10 Batch 5:  Loss: 1.3070, Valid Accuracy: 0.547400\n",
      "Epoch  3, CIFAR-10 Batch 1:  Loss: 1.3518, Valid Accuracy: 0.543400\n",
      "Epoch  3, CIFAR-10 Batch 2:  Loss: 1.2363, Valid Accuracy: 0.572400\n",
      "Epoch  3, CIFAR-10 Batch 3:  Loss: 1.0234, Valid Accuracy: 0.562000\n",
      "Epoch  3, CIFAR-10 Batch 4:  Loss: 1.0987, Valid Accuracy: 0.575600\n",
      "Epoch  3, CIFAR-10 Batch 5:  Loss: 1.0990, Valid Accuracy: 0.596600\n",
      "Epoch  4, CIFAR-10 Batch 1:  Loss: 1.1484, Valid Accuracy: 0.594400\n",
      "Epoch  4, CIFAR-10 Batch 2:  Loss: 1.0158, Valid Accuracy: 0.612400\n",
      "Epoch  4, CIFAR-10 Batch 3:  Loss: 0.9223, Valid Accuracy: 0.587400\n",
      "Epoch  4, CIFAR-10 Batch 4:  Loss: 0.9394, Valid Accuracy: 0.611600\n",
      "Epoch  4, CIFAR-10 Batch 5:  Loss: 0.9360, Valid Accuracy: 0.621600\n",
      "Epoch  5, CIFAR-10 Batch 1:  Loss: 1.0711, Valid Accuracy: 0.606200\n",
      "Epoch  5, CIFAR-10 Batch 2:  Loss: 0.9050, Valid Accuracy: 0.624000\n",
      "Epoch  5, CIFAR-10 Batch 3:  Loss: 0.7183, Valid Accuracy: 0.630200\n",
      "Epoch  5, CIFAR-10 Batch 4:  Loss: 0.8156, Valid Accuracy: 0.633800\n",
      "Epoch  5, CIFAR-10 Batch 5:  Loss: 0.7908, Valid Accuracy: 0.635200\n",
      "Epoch  6, CIFAR-10 Batch 1:  Loss: 0.9196, Valid Accuracy: 0.638600\n",
      "Epoch  6, CIFAR-10 Batch 2:  Loss: 0.7760, Valid Accuracy: 0.633600\n",
      "Epoch  6, CIFAR-10 Batch 3:  Loss: 0.6168, Valid Accuracy: 0.648400\n",
      "Epoch  6, CIFAR-10 Batch 4:  Loss: 0.7342, Valid Accuracy: 0.647200\n",
      "Epoch  6, CIFAR-10 Batch 5:  Loss: 0.6715, Valid Accuracy: 0.648200\n",
      "Epoch  7, CIFAR-10 Batch 1:  Loss: 0.7808, Valid Accuracy: 0.666800\n",
      "Epoch  7, CIFAR-10 Batch 2:  Loss: 0.6598, Valid Accuracy: 0.652800\n",
      "Epoch  7, CIFAR-10 Batch 3:  Loss: 0.4898, Valid Accuracy: 0.671000\n",
      "Epoch  7, CIFAR-10 Batch 4:  Loss: 0.6329, Valid Accuracy: 0.662600\n",
      "Epoch  7, CIFAR-10 Batch 5:  Loss: 0.5414, Valid Accuracy: 0.671600\n",
      "Epoch  8, CIFAR-10 Batch 1:  Loss: 0.6897, Valid Accuracy: 0.674800\n",
      "Epoch  8, CIFAR-10 Batch 2:  Loss: 0.5594, Valid Accuracy: 0.658000\n",
      "Epoch  8, CIFAR-10 Batch 3:  Loss: 0.3997, Valid Accuracy: 0.683000\n",
      "Epoch  8, CIFAR-10 Batch 4:  Loss: 0.5328, Valid Accuracy: 0.683600\n",
      "Epoch  8, CIFAR-10 Batch 5:  Loss: 0.4618, Valid Accuracy: 0.678200\n",
      "Epoch  9, CIFAR-10 Batch 1:  Loss: 0.5636, Valid Accuracy: 0.673400\n",
      "Epoch  9, CIFAR-10 Batch 2:  Loss: 0.4876, Valid Accuracy: 0.665000\n",
      "Epoch  9, CIFAR-10 Batch 3:  Loss: 0.3539, Valid Accuracy: 0.684200\n",
      "Epoch  9, CIFAR-10 Batch 4:  Loss: 0.4587, Valid Accuracy: 0.693800\n",
      "Epoch  9, CIFAR-10 Batch 5:  Loss: 0.3669, Valid Accuracy: 0.682000\n",
      "Epoch 10, CIFAR-10 Batch 1:  Loss: 0.5043, Valid Accuracy: 0.692000\n",
      "Epoch 10, CIFAR-10 Batch 2:  Loss: 0.4576, Valid Accuracy: 0.674400\n",
      "Epoch 10, CIFAR-10 Batch 3:  Loss: 0.3022, Valid Accuracy: 0.670200\n",
      "Epoch 10, CIFAR-10 Batch 4:  Loss: 0.4052, Valid Accuracy: 0.686000\n",
      "Epoch 10, CIFAR-10 Batch 5:  Loss: 0.3190, Valid Accuracy: 0.695400\n",
      "Epoch 11, CIFAR-10 Batch 1:  Loss: 0.3758, Valid Accuracy: 0.697200\n",
      "Epoch 11, CIFAR-10 Batch 2:  Loss: 0.3728, Valid Accuracy: 0.685000\n",
      "Epoch 11, CIFAR-10 Batch 3:  Loss: 0.2483, Valid Accuracy: 0.686200\n",
      "Epoch 11, CIFAR-10 Batch 4:  Loss: 0.3662, Valid Accuracy: 0.688400\n",
      "Epoch 11, CIFAR-10 Batch 5:  Loss: 0.2870, Valid Accuracy: 0.705200\n",
      "Epoch 12, CIFAR-10 Batch 1:  Loss: 0.2899, Valid Accuracy: 0.702200\n",
      "Epoch 12, CIFAR-10 Batch 2:  Loss: 0.2927, Valid Accuracy: 0.690200\n",
      "Epoch 12, CIFAR-10 Batch 3:  Loss: 0.2272, Valid Accuracy: 0.707200\n",
      "Epoch 12, CIFAR-10 Batch 4:  Loss: 0.2929, Valid Accuracy: 0.691200\n",
      "Epoch 12, CIFAR-10 Batch 5:  Loss: 0.2398, Valid Accuracy: 0.707400\n",
      "Epoch 13, CIFAR-10 Batch 1:  Loss: 0.2224, Valid Accuracy: 0.695200\n",
      "Epoch 13, CIFAR-10 Batch 2:  Loss: 0.2290, Valid Accuracy: 0.698600\n",
      "Epoch 13, CIFAR-10 Batch 3:  Loss: 0.1921, Valid Accuracy: 0.702800\n",
      "Epoch 13, CIFAR-10 Batch 4:  Loss: 0.2381, Valid Accuracy: 0.705400\n",
      "Epoch 13, CIFAR-10 Batch 5:  Loss: 0.1999, Valid Accuracy: 0.709800\n",
      "Epoch 14, CIFAR-10 Batch 1:  Loss: 0.1952, Valid Accuracy: 0.700800\n",
      "Epoch 14, CIFAR-10 Batch 2:  Loss: 0.1879, Valid Accuracy: 0.698800\n",
      "Epoch 14, CIFAR-10 Batch 3:  Loss: 0.1624, Valid Accuracy: 0.706000\n",
      "Epoch 14, CIFAR-10 Batch 4:  Loss: 0.2266, Valid Accuracy: 0.703200\n",
      "Epoch 14, CIFAR-10 Batch 5:  Loss: 0.1686, Valid Accuracy: 0.710400\n",
      "Epoch 15, CIFAR-10 Batch 1:  Loss: 0.1642, Valid Accuracy: 0.700400\n",
      "Epoch 15, CIFAR-10 Batch 2:  Loss: 0.1460, Valid Accuracy: 0.706800\n",
      "Epoch 15, CIFAR-10 Batch 3:  Loss: 0.1336, Valid Accuracy: 0.701600\n",
      "Epoch 15, CIFAR-10 Batch 4:  Loss: 0.1731, Valid Accuracy: 0.713000\n",
      "Epoch 15, CIFAR-10 Batch 5:  Loss: 0.1396, Valid Accuracy: 0.712200\n",
      "Epoch 16, CIFAR-10 Batch 1:  Loss: 0.1376, Valid Accuracy: 0.704800\n",
      "Epoch 16, CIFAR-10 Batch 2:  Loss: 0.1510, Valid Accuracy: 0.694000\n",
      "Epoch 16, CIFAR-10 Batch 3:  Loss: 0.1150, Valid Accuracy: 0.710000\n",
      "Epoch 16, CIFAR-10 Batch 4:  Loss: 0.1510, Valid Accuracy: 0.709000\n",
      "Epoch 16, CIFAR-10 Batch 5:  Loss: 0.1127, Valid Accuracy: 0.707600\n",
      "Epoch 17, CIFAR-10 Batch 1:  Loss: 0.1225, Valid Accuracy: 0.692800\n",
      "Epoch 17, CIFAR-10 Batch 2:  Loss: 0.1283, Valid Accuracy: 0.680800\n",
      "Epoch 17, CIFAR-10 Batch 3:  Loss: 0.0991, Valid Accuracy: 0.707600\n",
      "Epoch 17, CIFAR-10 Batch 4:  Loss: 0.1509, Valid Accuracy: 0.705400\n",
      "Epoch 17, CIFAR-10 Batch 5:  Loss: 0.1001, Valid Accuracy: 0.707400\n",
      "Epoch 18, CIFAR-10 Batch 1:  Loss: 0.1258, Valid Accuracy: 0.692600\n",
      "Epoch 18, CIFAR-10 Batch 2:  Loss: 0.0897, Valid Accuracy: 0.699400\n",
      "Epoch 18, CIFAR-10 Batch 3:  Loss: 0.0823, Valid Accuracy: 0.706600\n",
      "Epoch 18, CIFAR-10 Batch 4:  Loss: 0.1873, Valid Accuracy: 0.685800\n",
      "Epoch 18, CIFAR-10 Batch 5:  Loss: 0.0763, Valid Accuracy: 0.713000\n",
      "Epoch 19, CIFAR-10 Batch 1:  Loss: 0.0920, Valid Accuracy: 0.697800\n",
      "Epoch 19, CIFAR-10 Batch 2:  Loss: 0.0890, Valid Accuracy: 0.712600\n",
      "Epoch 19, CIFAR-10 Batch 3:  Loss: 0.0810, Valid Accuracy: 0.702400\n",
      "Epoch 19, CIFAR-10 Batch 4:  Loss: 0.1312, Valid Accuracy: 0.697400\n",
      "Epoch 19, CIFAR-10 Batch 5:  Loss: 0.0833, Valid Accuracy: 0.707600\n",
      "Epoch 20, CIFAR-10 Batch 1:  Loss: 0.0901, Valid Accuracy: 0.701600\n",
      "Epoch 20, CIFAR-10 Batch 2:  Loss: 0.0665, Valid Accuracy: 0.713800\n",
      "Epoch 20, CIFAR-10 Batch 3:  Loss: 0.0771, Valid Accuracy: 0.708600\n",
      "Epoch 20, CIFAR-10 Batch 4:  Loss: 0.1248, Valid Accuracy: 0.686400\n",
      "Epoch 20, CIFAR-10 Batch 5:  Loss: 0.0600, Valid Accuracy: 0.704200\n",
      "Epoch 21, CIFAR-10 Batch 1:  Loss: 0.0559, Valid Accuracy: 0.702600\n",
      "Epoch 21, CIFAR-10 Batch 2:  Loss: 0.0547, Valid Accuracy: 0.710200\n",
      "Epoch 21, CIFAR-10 Batch 3:  Loss: 0.0550, Valid Accuracy: 0.698800\n",
      "Epoch 21, CIFAR-10 Batch 4:  Loss: 0.0799, Valid Accuracy: 0.701400\n",
      "Epoch 21, CIFAR-10 Batch 5:  Loss: 0.0509, Valid Accuracy: 0.704600\n",
      "Epoch 22, CIFAR-10 Batch 1:  Loss: 0.0559, Valid Accuracy: 0.698000\n",
      "Epoch 22, CIFAR-10 Batch 2:  Loss: 0.0710, Valid Accuracy: 0.712600\n",
      "Epoch 22, CIFAR-10 Batch 3:  Loss: 0.0511, Valid Accuracy: 0.693400\n",
      "Epoch 22, CIFAR-10 Batch 4:  Loss: 0.0715, Valid Accuracy: 0.694800\n",
      "Epoch 22, CIFAR-10 Batch 5:  Loss: 0.0465, Valid Accuracy: 0.707800\n",
      "Epoch 23, CIFAR-10 Batch 1:  Loss: 0.0678, Valid Accuracy: 0.700000\n",
      "Epoch 23, CIFAR-10 Batch 2:  Loss: 0.0690, Valid Accuracy: 0.714600\n",
      "Epoch 23, CIFAR-10 Batch 3:  Loss: 0.0501, Valid Accuracy: 0.716600\n",
      "Epoch 23, CIFAR-10 Batch 4:  Loss: 0.0549, Valid Accuracy: 0.688400\n",
      "Epoch 23, CIFAR-10 Batch 5:  Loss: 0.0480, Valid Accuracy: 0.696200\n",
      "Epoch 24, CIFAR-10 Batch 1:  Loss: 0.0450, Valid Accuracy: 0.698800\n",
      "Epoch 24, CIFAR-10 Batch 2:  Loss: 0.0353, Valid Accuracy: 0.709000\n",
      "Epoch 24, CIFAR-10 Batch 3:  Loss: 0.0611, Valid Accuracy: 0.705400\n",
      "Epoch 24, CIFAR-10 Batch 4:  Loss: 0.0453, Valid Accuracy: 0.699200\n",
      "Epoch 24, CIFAR-10 Batch 5:  Loss: 0.0441, Valid Accuracy: 0.705200\n"
     ]
    },
    {
     "name": "stdout",
     "output_type": "stream",
     "text": [
      "Epoch 25, CIFAR-10 Batch 1:  Loss: 0.0375, Valid Accuracy: 0.689800\n",
      "Epoch 25, CIFAR-10 Batch 2:  Loss: 0.0341, Valid Accuracy: 0.709800\n",
      "Epoch 25, CIFAR-10 Batch 3:  Loss: 0.0278, Valid Accuracy: 0.702600\n",
      "Epoch 25, CIFAR-10 Batch 4:  Loss: 0.0385, Valid Accuracy: 0.706800\n",
      "Epoch 25, CIFAR-10 Batch 5:  Loss: 0.0421, Valid Accuracy: 0.705600\n",
      "Epoch 26, CIFAR-10 Batch 1:  Loss: 0.0453, Valid Accuracy: 0.692200\n",
      "Epoch 26, CIFAR-10 Batch 2:  Loss: 0.0335, Valid Accuracy: 0.710600\n",
      "Epoch 26, CIFAR-10 Batch 3:  Loss: 0.0411, Valid Accuracy: 0.699600\n",
      "Epoch 26, CIFAR-10 Batch 4:  Loss: 0.0249, Valid Accuracy: 0.707000\n",
      "Epoch 26, CIFAR-10 Batch 5:  Loss: 0.0264, Valid Accuracy: 0.714400\n",
      "Epoch 27, CIFAR-10 Batch 1:  Loss: 0.0222, Valid Accuracy: 0.696800\n",
      "Epoch 27, CIFAR-10 Batch 2:  Loss: 0.0223, Valid Accuracy: 0.715800\n",
      "Epoch 27, CIFAR-10 Batch 3:  Loss: 0.0269, Valid Accuracy: 0.695400\n",
      "Epoch 27, CIFAR-10 Batch 4:  Loss: 0.0493, Valid Accuracy: 0.695000\n",
      "Epoch 27, CIFAR-10 Batch 5:  Loss: 0.0209, Valid Accuracy: 0.710000\n",
      "Epoch 28, CIFAR-10 Batch 1:  Loss: 0.0341, Valid Accuracy: 0.701200\n",
      "Epoch 28, CIFAR-10 Batch 2:  Loss: 0.0337, Valid Accuracy: 0.707400\n",
      "Epoch 28, CIFAR-10 Batch 3:  Loss: 0.0258, Valid Accuracy: 0.702600\n",
      "Epoch 28, CIFAR-10 Batch 4:  Loss: 0.0205, Valid Accuracy: 0.699400\n",
      "Epoch 28, CIFAR-10 Batch 5:  Loss: 0.0120, Valid Accuracy: 0.708600\n",
      "Epoch 29, CIFAR-10 Batch 1:  Loss: 0.0227, Valid Accuracy: 0.706200\n",
      "Epoch 29, CIFAR-10 Batch 2:  Loss: 0.0185, Valid Accuracy: 0.706200\n",
      "Epoch 29, CIFAR-10 Batch 3:  Loss: 0.0224, Valid Accuracy: 0.703200\n",
      "Epoch 29, CIFAR-10 Batch 4:  Loss: 0.0119, Valid Accuracy: 0.709600\n",
      "Epoch 29, CIFAR-10 Batch 5:  Loss: 0.0117, Valid Accuracy: 0.711600\n",
      "Epoch 30, CIFAR-10 Batch 1:  Loss: 0.0274, Valid Accuracy: 0.690000\n",
      "Epoch 30, CIFAR-10 Batch 2:  Loss: 0.0191, Valid Accuracy: 0.704600\n",
      "Epoch 30, CIFAR-10 Batch 3:  Loss: 0.0118, Valid Accuracy: 0.708800\n",
      "Epoch 30, CIFAR-10 Batch 4:  Loss: 0.0174, Valid Accuracy: 0.703400\n",
      "Epoch 30, CIFAR-10 Batch 5:  Loss: 0.0152, Valid Accuracy: 0.706400\n"
     ]
    }
   ],
   "source": [
    "\"\"\"\n",
    "DON'T MODIFY ANYTHING IN THIS CELL\n",
    "\"\"\"\n",
    "save_model_path = './image_classification'\n",
    "\n",
    "print('Training...')\n",
    "with tf.Session() as sess:\n",
    "    # Initializing the variables\n",
    "    sess.run(tf.global_variables_initializer())\n",
    "    \n",
    "    # Training cycle\n",
    "    for epoch in range(epochs):\n",
    "        # Loop over all batches\n",
    "        n_batches = 5\n",
    "        for batch_i in range(1, n_batches + 1):\n",
    "            for batch_features, batch_labels in helper.load_preprocess_training_batch(batch_i, batch_size):\n",
    "                train_neural_network(sess, optimizer, keep_probability, batch_features, batch_labels)\n",
    "            print('Epoch {:>2}, CIFAR-10 Batch {}:  '.format(epoch + 1, batch_i), end='')\n",
    "            print_stats(sess, batch_features, batch_labels, cost, accuracy)\n",
    "            \n",
    "    # Save Model\n",
    "    saver = tf.train.Saver()\n",
    "    save_path = saver.save(sess, save_model_path)"
   ]
  },
  {
   "cell_type": "markdown",
   "metadata": {},
   "source": [
    "# 检查点\n",
    "\n",
    "模型已保存到本地。\n",
    "\n",
    "## 测试模型\n",
    "\n",
    "利用测试数据集测试你的模型。这将是最终的准确率。你的准确率应该高于 50%。如果没达到，请继续调整模型结构和参数。"
   ]
  },
  {
   "cell_type": "code",
   "execution_count": 40,
   "metadata": {
    "scrolled": false
   },
   "outputs": [
    {
     "name": "stdout",
     "output_type": "stream",
     "text": [
      "INFO:tensorflow:Restoring parameters from ./image_classification\n",
      "Testing Accuracy: 0.6978837025316456\n",
      "\n"
     ]
    },
    {
     "data": {
      "image/png": "[encoded data removed]",
      "text/plain": [
       "<Figure size 432x288 with 8 Axes>"
      ]
     },
     "metadata": {
      "image/png": {
       "height": 319,
       "width": 353
      }
     },
     "output_type": "display_data"
    }
   ],
   "source": [
    "\"\"\"\n",
    "DON'T MODIFY ANYTHING IN THIS CELL\n",
    "\"\"\"\n",
    "%matplotlib inline\n",
    "%config InlineBackend.figure_format = 'retina'\n",
    "\n",
    "import tensorflow as tf\n",
    "import pickle\n",
    "import helper\n",
    "import random\n",
    "\n",
    "# Set batch size if not already set\n",
    "try:\n",
    "    if batch_size:\n",
    "        pass\n",
    "except NameError:\n",
    "    batch_size = 64\n",
    "\n",
    "save_model_path = './image_classification'\n",
    "n_samples = 4\n",
    "top_n_predictions = 3\n",
    "\n",
    "def test_model():\n",
    "    \"\"\"\n",
    "    Test the saved model against the test dataset\n",
    "    \"\"\"\n",
    "\n",
    "    test_features, test_labels = pickle.load(open('preprocess_test.p', mode='rb'))\n",
    "    loaded_graph = tf.Graph()\n",
    "\n",
    "    with tf.Session(graph=loaded_graph) as sess:\n",
    "        # Load model\n",
    "        loader = tf.train.import_meta_graph(save_model_path + '.meta')\n",
    "        loader.restore(sess, save_model_path)\n",
    "\n",
    "        # Get Tensors from loaded model\n",
    "        loaded_x = loaded_graph.get_tensor_by_name('x:0')\n",
    "        loaded_y = loaded_graph.get_tensor_by_name('y:0')\n",
    "        loaded_keep_prob = loaded_graph.get_tensor_by_name('keep_prob:0')\n",
    "        loaded_logits = loaded_graph.get_tensor_by_name('logits:0')\n",
    "        loaded_acc = loaded_graph.get_tensor_by_name('accuracy:0')\n",
    "        \n",
    "        # Get accuracy in batches for memory limitations\n",
    "        test_batch_acc_total = 0\n",
    "        test_batch_count = 0\n",
    "        \n",
    "        for test_feature_batch, test_label_batch in helper.batch_features_labels(test_features, test_labels, batch_size):\n",
    "            test_batch_acc_total += sess.run(\n",
    "                loaded_acc,\n",
    "                feed_dict={loaded_x: test_feature_batch, loaded_y: test_label_batch, loaded_keep_prob: 1.0})\n",
    "            test_batch_count += 1\n",
    "\n",
    "        print('Testing Accuracy: {}\\n'.format(test_batch_acc_total/test_batch_count))\n",
    "\n",
    "        # Print Random Samples\n",
    "        random_test_features, random_test_labels = tuple(zip(*random.sample(list(zip(test_features, test_labels)), n_samples)))\n",
    "        random_test_predictions = sess.run(\n",
    "            tf.nn.top_k(tf.nn.softmax(loaded_logits), top_n_predictions),\n",
    "            feed_dict={loaded_x: random_test_features, loaded_y: random_test_labels, loaded_keep_prob: 1.0})\n",
    "        helper.display_image_predictions(random_test_features, random_test_labels, random_test_predictions)\n",
    "\n",
    "\n",
    "test_model()"
   ]
  },
  {
   "cell_type": "markdown",
   "metadata": {},
   "source": [
    "## 为何准确率只有50-80%？\n",
    "\n",
    "你可能想问，为何准确率不能更高了？首先，对于简单的 CNN 网络来说，50% 已经不低了。纯粹猜测的准确率为10%。但是，你可能注意到有人的准确率[远远超过 80%](http://rodrigob.github.io/are_we_there_yet/build/classification_datasets_results.html#43494641522d3130)。这是因为我们还没有介绍所有的神经网络知识。我们还需要掌握一些其他技巧。\n",
    "\n",
    "## 提交项目\n",
    "\n",
    "提交项目时，确保先运行所有单元，然后再保存记事本。将 notebook 文件另存为“dlnd_image_classification.ipynb”，再在目录 \"File\" -> \"Download as\" 另存为 HTML 格式。请在提交的项目中包含 “helper.py” 和 “problem_unittests.py” 文件。\n"
   ]
  },
  {
   "cell_type": "code",
   "execution_count": null,
   "metadata": {},
   "outputs": [],
   "source": []
  }
 ],
 "metadata": {
  "kernelspec": {
   "display_name": "Python 3",
   "language": "python",
   "name": "python3"
  },
  "language_info": {
   "codemirror_mode": {
    "name": "ipython",
    "version": 3
   },
   "file_extension": ".py",
   "mimetype": "text/x-python",
   "name": "python",
   "nbconvert_exporter": "python",
   "pygments_lexer": "ipython3",
   "version": "3.5.5"
  }
 },
 "nbformat": 4,
 "nbformat_minor": 1
}
